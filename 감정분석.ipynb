{
 "cells": [
  {
   "cell_type": "code",
   "execution_count": 1,
   "metadata": {},
   "outputs": [],
   "source": [
    "import os\n",
    "import csv\n",
    "import re\n",
    "import numpy as np\n",
    "import pandas as pd\n",
    "from math import log\n",
    "import warnings\n",
    "warnings.filterwarnings(\"ignore\")\n",
    "from konlpy.tag import Hannanum\n",
    "\n",
    "hn = Hannanum()"
   ]
  },
  {
   "cell_type": "code",
   "execution_count": 15,
   "metadata": {},
   "outputs": [],
   "source": [
    "docs=[\n",
    "    '너무좋아서 노래가 절로나옵니다',\n",
    "    '중고매장인가요? 화가나네요..누가봐도 남이 뜯어본걸..선물로 구입했는데 안열어봤으면 큰일 날뻔했네요',\n",
    "    '넘좋네요.. 가격도 착하고ㅎㅎ',\n",
    "    '강력 추천해드립니다',\n",
    "    '음질도 너무 좋고 강력 추천해드립니다'\n",
    "]"
   ]
  },
  {
   "cell_type": "code",
   "execution_count": 16,
   "metadata": {},
   "outputs": [
    {
     "data": {
      "text/plain": [
       "array([[1, 2],\n",
       "       [1, 1],\n",
       "       [1, 1],\n",
       "       [1, 1],\n",
       "       [2, 2]], dtype=int8)"
      ]
     },
     "execution_count": 16,
     "metadata": {},
     "output_type": "execute_result"
    }
   ],
   "source": [
    "import os\n",
    "import csv\n",
    "import re\n",
    "import numpy as np\n",
    "import pandas as pd\n",
    "from math import log\n",
    "import warnings\n",
    "warnings.filterwarnings(\"ignore\")\n",
    "\n",
    "from konlpy.tag import Hannanum\n",
    "hn = Hannanum()\n",
    "\n",
    "\n",
    "os.getcwd()\n",
    "\n",
    "os.chdir(r'C:\\Users\\jmlee\\Desktop\\4학년 1학기\\텍스트마이닝을 이용한 소비자분석\\0518 실습')\n",
    "\n",
    "#remove carriage return\n",
    "def cleancr(dic):\n",
    "    line = []\n",
    "    for i in range(len(dic)):\n",
    "        line.append(re.sub(\"\\s\", \"\", dic[i]))\n",
    "    return line\n",
    "\n",
    "#count matches\n",
    "def matches(dic, d):\n",
    "    return d.count(dic)\n",
    "\n",
    "#긍부정어 사전 로딩\n",
    "f = open(\"positive.txt\", 'r', encoding='UTF8')\n",
    "positive = f.readlines()\n",
    "f.close()\n",
    "positive = cleancr(positive)\n",
    "\n",
    "f = open(\"negative.txt\", 'r', encoding='UTF8')\n",
    "negative = f.readlines()\n",
    "f.close()\n",
    "negative = cleancr(negative)\n",
    "\n",
    "#사전비교\n",
    "N = len(docs)\n",
    "\n",
    "res = np.zeros(shape=(N, 2), dtype = np.int8)\n",
    "for i in range(N): #문서별로 수행\n",
    "    d = docs[i]\n",
    "    cnt = 0\n",
    "    for j in range(len(positive)):\n",
    "        dic = positive[j]        \n",
    "        cnt += matches(dic, d)\n",
    "    res[i, 0] = cnt\n",
    "\n",
    "for i in range(N): #문서별로 수행\n",
    "    d = docs[i]\n",
    "    cnt = 0\n",
    "    for j in range(len(negative)):\n",
    "        dic = negative[j]        \n",
    "        cnt += matches(dic, d)\n",
    "    res[i, 1] = cnt\n",
    "\n",
    "\n",
    "res\n"
   ]
  },
  {
   "cell_type": "code",
   "execution_count": 17,
   "metadata": {},
   "outputs": [
    {
     "data": {
      "text/plain": [
       "array([0.33333333, 0.5       , 0.5       , 0.5       , 0.5       ])"
      ]
     },
     "execution_count": 17,
     "metadata": {},
     "output_type": "execute_result"
    }
   ],
   "source": [
    "#긍정률 계산\n",
    "pos_rate = res[:, 0] / (res[:, 0] + res[:, 1])\n",
    "pos_rate"
   ]
  },
  {
   "cell_type": "code",
   "execution_count": null,
   "metadata": {},
   "outputs": [],
   "source": []
  },
  {
   "cell_type": "code",
   "execution_count": null,
   "metadata": {},
   "outputs": [],
   "source": []
  }
 ],
 "metadata": {
  "kernelspec": {
   "display_name": "Python 3",
   "language": "python",
   "name": "python3"
  },
  "language_info": {
   "codemirror_mode": {
    "name": "ipython",
    "version": 3
   },
   "file_extension": ".py",
   "mimetype": "text/x-python",
   "name": "python",
   "nbconvert_exporter": "python",
   "pygments_lexer": "ipython3",
   "version": "3.7.6"
  }
 },
 "nbformat": 4,
 "nbformat_minor": 4
}
